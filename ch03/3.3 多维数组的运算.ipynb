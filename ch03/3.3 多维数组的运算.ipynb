{
 "cells": [
  {
   "metadata": {},
   "cell_type": "markdown",
   "source": "## 3.3.2　矩阵乘法",
   "id": "bc2c0e5603cf0276"
  },
  {
   "cell_type": "code",
   "id": "initial_id",
   "metadata": {
    "collapsed": true,
    "ExecuteTime": {
     "end_time": "2025-08-14T09:08:56.250646Z",
     "start_time": "2025-08-14T09:08:56.243738Z"
    }
   },
   "source": [
    "import numpy as np\n",
    "\n",
    "#  2 x 2 矩阵乘法\n",
    "A = np.array([[1, 2], [3, 4]])\n",
    "print(A.shape)\n",
    "B = np.array([[5, 6], [7, 8]])\n",
    "print(B.shape)\n",
    "C = np.dot(A, B)\n",
    "print(C)\n",
    "\n",
    "# 2 x 3 与 3 x 2矩阵乘法\n",
    "A = np.array([[1, 2, 3], [4, 5, 6]])\n",
    "print(A.shape)\n",
    "B = np.array([[1, 2], [3, 4], [5, 6]])\n",
    "print(B.shape)\n",
    "C = np.dot(A, B)\n",
    "print(C)"
   ],
   "outputs": [
    {
     "name": "stdout",
     "output_type": "stream",
     "text": [
      "(2, 2)\n",
      "(2, 2)\n",
      "[[19 22]\n",
      " [43 50]]\n",
      "(2, 3)\n",
      "(3, 2)\n",
      "[[22 28]\n",
      " [49 64]]\n"
     ]
    }
   ],
   "execution_count": 6
  }
 ],
 "metadata": {
  "kernelspec": {
   "display_name": "Python 3",
   "language": "python",
   "name": "python3"
  },
  "language_info": {
   "codemirror_mode": {
    "name": "ipython",
    "version": 2
   },
   "file_extension": ".py",
   "mimetype": "text/x-python",
   "name": "python",
   "nbconvert_exporter": "python",
   "pygments_lexer": "ipython2",
   "version": "2.7.6"
  }
 },
 "nbformat": 4,
 "nbformat_minor": 5
}
