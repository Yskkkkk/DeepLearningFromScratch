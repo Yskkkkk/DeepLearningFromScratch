{
 "cells": [
  {
   "metadata": {
    "ExecuteTime": {
     "end_time": "2025-08-14T09:42:59.497632Z",
     "start_time": "2025-08-14T09:42:59.277660Z"
    }
   },
   "cell_type": "code",
   "source": [
    "import numpy as np\n",
    "\n",
    "\n",
    "def sigmoid(x):\n",
    " return 1 / (1 + np.exp(-x))\n",
    "\n",
    "\n",
    "def identity_function(x):\n",
    " return x\n",
    "\n",
    "\n",
    "def init_network():\n",
    " network = {}\n",
    " network['W1'] = np.array([[0.1, 0.3, 0.5], [0.2, 0.4, 0.6]])\n",
    " network['b1'] = np.array([0.1, 0.2, 0.3])\n",
    " network['W2'] = np.array([[0.1, 0.4], [0.2, 0.5], [0.3, 0.6]])\n",
    " network['b2'] = np.array([0.1, 0.2])\n",
    " network['W3'] = np.array([[0.1, 0.3], [0.2, 0.4]])\n",
    " network['b3'] = np.array([0.1, 0.2])\n",
    " return network\n",
    "\n",
    "\n",
    "def forward(network, x):\n",
    " W1, W2, W3 = network['W1'], network['W2'], network['W3']\n",
    " b1, b2, b3 = network['b1'], network['b2'], network['b3']\n",
    " a1 = np.dot(x, W1) + b1\n",
    " z1 = sigmoid(a1)\n",
    " a2 = np.dot(z1, W2) + b2\n",
    " z2 = sigmoid(a2)\n",
    " a3 = np.dot(z2, W3) + b3\n",
    " y = identity_function(a3)\n",
    " return y\n",
    "\n",
    "\n",
    "network = init_network()\n",
    "x = np.array([1.0, 0.5])\n",
    "y = forward(network, x)\n",
    "print(y)  # [ 0.31682708 0.69627909]"
   ],
   "id": "1032da94a3d0528e",
   "outputs": [
    {
     "name": "stdout",
     "output_type": "stream",
     "text": [
      "[0.31682708 0.69627909]\n"
     ]
    }
   ],
   "execution_count": 1
  }
 ],
 "metadata": {
  "kernelspec": {
   "display_name": "Python 3",
   "language": "python",
   "name": "python3"
  },
  "language_info": {
   "codemirror_mode": {
    "name": "ipython",
    "version": 2
   },
   "file_extension": ".py",
   "mimetype": "text/x-python",
   "name": "python",
   "nbconvert_exporter": "python",
   "pygments_lexer": "ipython2",
   "version": "2.7.6"
  }
 },
 "nbformat": 4,
 "nbformat_minor": 5
}
